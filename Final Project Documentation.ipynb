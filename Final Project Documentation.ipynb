{
 "cells": [
  {
   "cell_type": "markdown",
   "metadata": {},
   "source": [
    "# Final Project Stochastic \n",
    "\n",
    "**This project include:**\n",
    "\n",
    "1) implemntation code from scratch using python\n",
    "\n",
    "2) Latex Documentation of the algorithm"
   ]
  },
  {
   "cell_type": "markdown",
   "metadata": {},
   "source": [
    "### Latex documnetation Wiener filter"
   ]
  },
  {
   "cell_type": "markdown",
   "metadata": {},
   "source": [
    "<img src=\"WienerFilter.jpg\">"
   ]
  },
  {
   "cell_type": "markdown",
   "metadata": {},
   "source": [
    "* where y(n) is the distorted signal in our project\n",
    "* x(n) is the original signal\n",
    "* z(n)= $\\hat{x} $(n)  is the estimated signal "
   ]
  },
  {
   "cell_type": "markdown",
   "metadata": {},
   "source": [
    "#### given equatoins:\n",
    "\n",
    "* $ y(n) = c_{0}*x(n) + c_{1}*x(n-1) + c_{2}*x(n-2) + \\varepsilon(n) $ "
   ]
  },
  {
   "cell_type": "markdown",
   "metadata": {},
   "source": [
    "* $ \\hat{x}(n) = h(n)*y(n) $\n",
    "     - which is $ \\hat{x}(n) = \\sum_{i=0}^{I} h(i) * y(n-i) $ in time domain \n",
    "     - $ \\hat{x}(n) = h(z) * y(z) $ in z-domain"
   ]
  },
  {
   "cell_type": "markdown",
   "metadata": {},
   "source": [
    " **Error signal** $$ e(n) =  x(n) - \\hat{x}(n) $$"
   ]
  },
  {
   "cell_type": "markdown",
   "metadata": {},
   "source": [
    "**Mean Square Error** $$ (MSE) = E(e(n)^2) = E ( (x(n) - \\hat{x}(n))^2 )  =  E ( (x(n) - \\sum_{i=0}^{I} h(i) * y(n-i) )^2 ) $$ "
   ]
  },
  {
   "cell_type": "markdown",
   "metadata": {},
   "source": [
    "**to minimize the MSE we can take the partial derivative and equal it to zero**\n",
    "\n",
    "$$  \\frac{\\partial MSE}{\\partial h(l)_{l=0:I}} = \\frac{\\partial  E(e(n)^2)}{\\partial h(l)_{l=0:I} }  = 0  $$"
   ]
  },
  {
   "cell_type": "markdown",
   "metadata": {},
   "source": [
    "$$  E[x(n)*y(n-l)]  =  \\sum_{i=0}^{I} h(i) * E [ y(n-i) * y(n-l) ] $$"
   ]
  },
  {
   "cell_type": "markdown",
   "metadata": {},
   "source": [
    "so $$ R_{xy}(l) = \\sum_{i=0}^{I} h(i) * R_{yy}(l-i)$$"
   ]
  },
  {
   "cell_type": "markdown",
   "metadata": {},
   "source": [
    "**in our project our matrix is 4th degree**\n",
    "\n",
    "so, filter coeffecient can be written as:\n",
    "\n",
    "\n",
    "\\begin{gather}\n",
    " \\begin{bmatrix} \n",
    " h(0)\\\\\n",
    " h(1) \\\\ \n",
    " h(2) \\\\\n",
    " h(3) \\\\\n",
    " h(4)\n",
    " \\end{bmatrix}\n",
    " =\n",
    " \\begin{bmatrix}\n",
    "   R_{yy}(0) & R_{yy}(1) & R_{yy}(2) & R_{yy}(3) & R_{yy}(4) \\\\\n",
    "   R_{yy}(1) & R_{yy}(0) & R_{yy}(1) & R_{yy}(2) & R_{yy}(3) \\\\\n",
    "   R_{yy}(2) & R_{yy}(1) & R_{yy}(0) & R_{yy}(1) & R_{yy}(2) \\\\\n",
    "   R_{yy}(3) & R_{yy}(2) & R_{yy}(1) & R_{yy}(0) & R_{yy}(1) \\\\\n",
    "   R_{yy}(4) & R_{yy}(3) & R_{yy}(2) & R_{yy}(1) & R_{yy}(0) \n",
    "   \\end{bmatrix}^{-1}\n",
    "   * \n",
    " \\begin{bmatrix}\n",
    "     R_{xy}(0)\\\\\n",
    "     R_{xy}(1) \\\\ \n",
    "     R_{xy}(2) \\\\\n",
    "     R_{xy}(3) \\\\\n",
    "     R_{xy}(4)\n",
    "   \\end{bmatrix}\n",
    "\\end{gather}"
   ]
  },
  {
   "cell_type": "markdown",
   "metadata": {},
   "source": [
    "<img src=\"IMG_2386.jpg\" width=\"500\" height=\"200\">"
   ]
  },
  {
   "cell_type": "markdown",
   "metadata": {},
   "source": [
    "<img src=\"IMG_2387.jpg\" width=\"500\" height=\"200\" >"
   ]
  },
  {
   "cell_type": "markdown",
   "metadata": {},
   "source": [
    "**get the eqivelant matrix for Ryy equations**\n",
    "\n",
    "\\begin{gather}\n",
    " \\begin{bmatrix} \n",
    " R_{yy}(0) - \\sigma_{\\varepsilon}^2\\\\\n",
    " R_{yy}(1) \\\\ \n",
    " R_{yy}(2) \\\\\n",
    " R_{yy}(3) \\\\\n",
    " R_{yy}(4)\n",
    " \\end{bmatrix}\n",
    " =\n",
    " \\begin{bmatrix}\n",
    "   C_{0} & C_{1} & C_{2} & 0 & 0 \\\\\n",
    "   C_{1} & C_{0}+C_{2} & 0 & 0 & 0 \\\\\n",
    "   C_{2} & C_{1} & C_{0} & 0 & 0 \\\\\n",
    "   0 & C_{2} & C_{1} & C_{0} & 0 \\\\\n",
    "   0 & 0 & C_{2} & C_{1} & C_{0} \n",
    "   \\end{bmatrix}\n",
    "   * \n",
    " \\begin{bmatrix}\n",
    "     R_{xy}(0)\\\\\n",
    "     R_{xy}(1) \\\\ \n",
    "     R_{xy}(2) \\\\\n",
    "     R_{xy}(3) \\\\\n",
    "     R_{xy}(4)\n",
    "   \\end{bmatrix}\n",
    "\\end{gather}"
   ]
  },
  {
   "cell_type": "markdown",
   "metadata": {},
   "source": [
    "**then get Rxy matrix alone on a side**\n",
    "\n",
    "\\begin{gather}\n",
    " \\begin{bmatrix}\n",
    "     R_{xy}(0)\\\\\n",
    "     R_{xy}(1) \\\\ \n",
    "     R_{xy}(2) \\\\\n",
    "     R_{xy}(3) \\\\\n",
    "     R_{xy}(4)\n",
    "   \\end{bmatrix}\n",
    " = \n",
    " \\begin{bmatrix}\n",
    "   C_{0} & C_{1} & C_{2} & 0 & 0 \\\\\n",
    "   C_{1} & C_{0}+C_{2} & 0 & 0 & 0 \\\\\n",
    "   C_{2} & C_{1} & C_{0} & 0 & 0 \\\\\n",
    "   0 & C_{2} & C_{1} & C_{0} & 0 \\\\\n",
    "   0 & 0 & C_{2} & C_{1} & C_{0} \n",
    "   \\end{bmatrix}^{-1}\n",
    "   * \n",
    "  \\begin{bmatrix} \n",
    "     R_{yy}(0) - \\sigma_{\\varepsilon}^2\\\\\n",
    "     R_{yy}(1) \\\\ \n",
    "     R_{yy}(2) \\\\\n",
    "     R_{yy}(3) \\\\\n",
    "     R_{yy}(4)\n",
    "   \\end{bmatrix}\n",
    "\\end{gather}"
   ]
  },
  {
   "cell_type": "markdown",
   "metadata": {},
   "source": [
    "**substitute in the main filter coeffeicent matrix** \n",
    "\n",
    "\\begin{gather}\n",
    " \\begin{bmatrix} \n",
    " h(0)\\\\\n",
    " h(1) \\\\ \n",
    " h(2) \\\\\n",
    " h(3) \\\\\n",
    " h(4)\n",
    " \\end{bmatrix}\n",
    " =\n",
    " \\begin{bmatrix}\n",
    "   R_{yy}(0) & R_{yy}(1) & R_{yy}(2) & R_{yy}(3) & R_{yy}(4) \\\\\n",
    "   R_{yy}(1) & R_{yy}(0) & R_{yy}(1) & R_{yy}(2) & R_{yy}(3) \\\\\n",
    "   R_{yy}(2) & R_{yy}(1) & R_{yy}(0) & R_{yy}(1) & R_{yy}(2) \\\\\n",
    "   R_{yy}(3) & R_{yy}(2) & R_{yy}(1) & R_{yy}(0) & R_{yy}(1) \\\\\n",
    "   R_{yy}(4) & R_{yy}(3) & R_{yy}(2) & R_{yy}(1) & R_{yy}(0) \n",
    "   \\end{bmatrix}^{-1}\n",
    "   * \n",
    "    \\begin{bmatrix}\n",
    "   C_{0} & C_{1} & C_{2} & 0 & 0 \\\\\n",
    "   C_{1} & C_{0}+C_{2} & 0 & 0 & 0 \\\\\n",
    "   C_{2} & C_{1} & C_{0} & 0 & 0 \\\\\n",
    "   0 & C_{2} & C_{1} & C_{0} & 0 \\\\\n",
    "   0 & 0 & C_{2} & C_{1} & C_{0} \n",
    "   \\end{bmatrix}^{-1}\n",
    "   * \n",
    "  \\begin{bmatrix} \n",
    "     R_{yy}(0) - \\sigma_{\\varepsilon}^2\\\\\n",
    "     R_{yy}(1) \\\\ \n",
    "     R_{yy}(2) \\\\\n",
    "     R_{yy}(3) \\\\\n",
    "     R_{yy}(4)\n",
    "   \\end{bmatrix}\n",
    "\\end{gather}"
   ]
  },
  {
   "cell_type": "markdown",
   "metadata": {},
   "source": [
    "## This is the moel of the fourth order wiener filter ( # Requirement no.1 )"
   ]
  }
 ],
 "metadata": {
  "kernelspec": {
   "display_name": "Python 3",
   "language": "python",
   "name": "python3"
  },
  "language_info": {
   "codemirror_mode": {
    "name": "ipython",
    "version": 3
   },
   "file_extension": ".py",
   "mimetype": "text/x-python",
   "name": "python",
   "nbconvert_exporter": "python",
   "pygments_lexer": "ipython3",
   "version": "3.7.4"
  }
 },
 "nbformat": 4,
 "nbformat_minor": 2
}
